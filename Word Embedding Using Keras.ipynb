{
 "cells": [
  {
   "cell_type": "markdown",
   "id": "ece823b6",
   "metadata": {},
   "source": [
    "# Word Embedding Techniques using Embedding Layer in Kera"
   ]
  },
  {
   "cell_type": "code",
   "execution_count": 2,
   "id": "cfcddc82",
   "metadata": {},
   "outputs": [
    {
     "name": "stdout",
     "output_type": "stream",
     "text": [
      "Collecting tensorflow\n",
      "  Downloading tensorflow-2.11.0-cp39-cp39-win_amd64.whl (1.9 kB)\n",
      "Collecting tensorflow-intel==2.11.0\n",
      "  Downloading tensorflow_intel-2.11.0-cp39-cp39-win_amd64.whl (266.3 MB)\n",
      "Collecting keras<2.12,>=2.11.0\n",
      "  Downloading keras-2.11.0-py2.py3-none-any.whl (1.7 MB)\n",
      "Collecting google-pasta>=0.1.1\n",
      "  Downloading google_pasta-0.2.0-py3-none-any.whl (57 kB)\n",
      "Collecting astunparse>=1.6.0\n",
      "  Downloading astunparse-1.6.3-py2.py3-none-any.whl (12 kB)\n",
      "Collecting termcolor>=1.1.0\n",
      "  Downloading termcolor-2.2.0-py3-none-any.whl (6.6 kB)\n",
      "Collecting opt-einsum>=2.3.2\n",
      "  Downloading opt_einsum-3.3.0-py3-none-any.whl (65 kB)\n",
      "Requirement already satisfied: numpy>=1.20 in c:\\users\\anoop\\anaconda3\\lib\\site-packages (from tensorflow-intel==2.11.0->tensorflow) (1.21.5)\n",
      "Requirement already satisfied: packaging in c:\\users\\anoop\\anaconda3\\lib\\site-packages (from tensorflow-intel==2.11.0->tensorflow) (21.3)\n",
      "Collecting libclang>=13.0.0\n",
      "  Downloading libclang-15.0.6.1-py2.py3-none-win_amd64.whl (23.2 MB)\n",
      "Requirement already satisfied: six>=1.12.0 in c:\\users\\anoop\\anaconda3\\lib\\site-packages (from tensorflow-intel==2.11.0->tensorflow) (1.16.0)\n",
      "Requirement already satisfied: grpcio<2.0,>=1.24.3 in c:\\users\\anoop\\anaconda3\\lib\\site-packages (from tensorflow-intel==2.11.0->tensorflow) (1.42.0)\n",
      "Collecting tensorflow-io-gcs-filesystem>=0.23.1\n",
      "  Downloading tensorflow_io_gcs_filesystem-0.30.0-cp39-cp39-win_amd64.whl (1.5 MB)\n",
      "Requirement already satisfied: setuptools in c:\\users\\anoop\\anaconda3\\lib\\site-packages (from tensorflow-intel==2.11.0->tensorflow) (61.2.0)\n",
      "Collecting flatbuffers>=2.0\n",
      "  Downloading flatbuffers-23.1.21-py2.py3-none-any.whl (26 kB)\n",
      "Requirement already satisfied: typing-extensions>=3.6.6 in c:\\users\\anoop\\anaconda3\\lib\\site-packages (from tensorflow-intel==2.11.0->tensorflow) (4.1.1)\n",
      "Collecting tensorboard<2.12,>=2.11\n",
      "  Downloading tensorboard-2.11.2-py3-none-any.whl (6.0 MB)\n",
      "Requirement already satisfied: wrapt>=1.11.0 in c:\\users\\anoop\\anaconda3\\lib\\site-packages (from tensorflow-intel==2.11.0->tensorflow) (1.12.1)\n",
      "Requirement already satisfied: h5py>=2.9.0 in c:\\users\\anoop\\anaconda3\\lib\\site-packages (from tensorflow-intel==2.11.0->tensorflow) (3.6.0)\n",
      "Collecting gast<=0.4.0,>=0.2.1\n",
      "  Downloading gast-0.4.0-py3-none-any.whl (9.8 kB)\n",
      "Collecting tensorflow-estimator<2.12,>=2.11.0\n",
      "  Downloading tensorflow_estimator-2.11.0-py2.py3-none-any.whl (439 kB)\n",
      "Collecting absl-py>=1.0.0\n",
      "  Downloading absl_py-1.4.0-py3-none-any.whl (126 kB)\n",
      "Requirement already satisfied: protobuf<3.20,>=3.9.2 in c:\\users\\anoop\\anaconda3\\lib\\site-packages (from tensorflow-intel==2.11.0->tensorflow) (3.19.1)\n",
      "Requirement already satisfied: wheel<1.0,>=0.23.0 in c:\\users\\anoop\\anaconda3\\lib\\site-packages (from astunparse>=1.6.0->tensorflow-intel==2.11.0->tensorflow) (0.37.1)\n",
      "Requirement already satisfied: werkzeug>=1.0.1 in c:\\users\\anoop\\anaconda3\\lib\\site-packages (from tensorboard<2.12,>=2.11->tensorflow-intel==2.11.0->tensorflow) (2.0.3)\n",
      "Collecting tensorboard-data-server<0.7.0,>=0.6.0\n",
      "  Downloading tensorboard_data_server-0.6.1-py3-none-any.whl (2.4 kB)\n",
      "Collecting google-auth-oauthlib<0.5,>=0.4.1\n",
      "  Downloading google_auth_oauthlib-0.4.6-py2.py3-none-any.whl (18 kB)\n",
      "Requirement already satisfied: google-auth<3,>=1.6.3 in c:\\users\\anoop\\anaconda3\\lib\\site-packages (from tensorboard<2.12,>=2.11->tensorflow-intel==2.11.0->tensorflow) (1.33.0)\n",
      "Collecting tensorboard-plugin-wit>=1.6.0\n",
      "  Downloading tensorboard_plugin_wit-1.8.1-py3-none-any.whl (781 kB)\n",
      "Requirement already satisfied: markdown>=2.6.8 in c:\\users\\anoop\\anaconda3\\lib\\site-packages (from tensorboard<2.12,>=2.11->tensorflow-intel==2.11.0->tensorflow) (3.3.4)\n",
      "Requirement already satisfied: requests<3,>=2.21.0 in c:\\users\\anoop\\anaconda3\\lib\\site-packages (from tensorboard<2.12,>=2.11->tensorflow-intel==2.11.0->tensorflow) (2.27.1)\n",
      "Requirement already satisfied: rsa<5,>=3.1.4 in c:\\users\\anoop\\anaconda3\\lib\\site-packages (from google-auth<3,>=1.6.3->tensorboard<2.12,>=2.11->tensorflow-intel==2.11.0->tensorflow) (4.7.2)\n",
      "Requirement already satisfied: cachetools<5.0,>=2.0.0 in c:\\users\\anoop\\anaconda3\\lib\\site-packages (from google-auth<3,>=1.6.3->tensorboard<2.12,>=2.11->tensorflow-intel==2.11.0->tensorflow) (4.2.2)\n",
      "Requirement already satisfied: pyasn1-modules>=0.2.1 in c:\\users\\anoop\\anaconda3\\lib\\site-packages (from google-auth<3,>=1.6.3->tensorboard<2.12,>=2.11->tensorflow-intel==2.11.0->tensorflow) (0.2.8)\n",
      "Collecting requests-oauthlib>=0.7.0\n",
      "  Downloading requests_oauthlib-1.3.1-py2.py3-none-any.whl (23 kB)\n",
      "Requirement already satisfied: pyasn1<0.5.0,>=0.4.6 in c:\\users\\anoop\\anaconda3\\lib\\site-packages (from pyasn1-modules>=0.2.1->google-auth<3,>=1.6.3->tensorboard<2.12,>=2.11->tensorflow-intel==2.11.0->tensorflow) (0.4.8)\n",
      "Requirement already satisfied: idna<4,>=2.5 in c:\\users\\anoop\\anaconda3\\lib\\site-packages (from requests<3,>=2.21.0->tensorboard<2.12,>=2.11->tensorflow-intel==2.11.0->tensorflow) (3.3)\n",
      "Requirement already satisfied: urllib3<1.27,>=1.21.1 in c:\\users\\anoop\\anaconda3\\lib\\site-packages (from requests<3,>=2.21.0->tensorboard<2.12,>=2.11->tensorflow-intel==2.11.0->tensorflow) (1.26.9)\n",
      "Requirement already satisfied: certifi>=2017.4.17 in c:\\users\\anoop\\anaconda3\\lib\\site-packages (from requests<3,>=2.21.0->tensorboard<2.12,>=2.11->tensorflow-intel==2.11.0->tensorflow) (2021.10.8)\n",
      "Requirement already satisfied: charset-normalizer~=2.0.0 in c:\\users\\anoop\\anaconda3\\lib\\site-packages (from requests<3,>=2.21.0->tensorboard<2.12,>=2.11->tensorflow-intel==2.11.0->tensorflow) (2.0.4)\n",
      "Collecting oauthlib>=3.0.0\n",
      "  Downloading oauthlib-3.2.2-py3-none-any.whl (151 kB)\n",
      "Requirement already satisfied: pyparsing!=3.0.5,>=2.0.2 in c:\\users\\anoop\\anaconda3\\lib\\site-packages (from packaging->tensorflow-intel==2.11.0->tensorflow) (3.0.4)\n",
      "Installing collected packages: oauthlib, requests-oauthlib, tensorboard-plugin-wit, tensorboard-data-server, google-auth-oauthlib, absl-py, termcolor, tensorflow-io-gcs-filesystem, tensorflow-estimator, tensorboard, opt-einsum, libclang, keras, google-pasta, gast, flatbuffers, astunparse, tensorflow-intel, tensorflow\n",
      "Successfully installed absl-py-1.4.0 astunparse-1.6.3 flatbuffers-23.1.21 gast-0.4.0 google-auth-oauthlib-0.4.6 google-pasta-0.2.0 keras-2.11.0 libclang-15.0.6.1 oauthlib-3.2.2 opt-einsum-3.3.0 requests-oauthlib-1.3.1 tensorboard-2.11.2 tensorboard-data-server-0.6.1 tensorboard-plugin-wit-1.8.1 tensorflow-2.11.0 tensorflow-estimator-2.11.0 tensorflow-intel-2.11.0 tensorflow-io-gcs-filesystem-0.30.0 termcolor-2.2.0\n"
     ]
    }
   ],
   "source": [
    "!pip install tensorflow"
   ]
  },
  {
   "cell_type": "code",
   "execution_count": 3,
   "id": "cd31810c",
   "metadata": {},
   "outputs": [],
   "source": [
    "from tensorflow.keras.preprocessing.text import one_hot"
   ]
  },
  {
   "cell_type": "code",
   "execution_count": 5,
   "id": "18417156",
   "metadata": {},
   "outputs": [],
   "source": [
    "### sentences\n",
    "sent=[  'the glass of milk',\n",
    "     'the glass of juice',\n",
    "     'the cup of tea',\n",
    "    'I am a good boy',\n",
    "     'I am a good developer',\n",
    "     'understand the meaning of words',\n",
    "     'your videos are good',]"
   ]
  },
  {
   "cell_type": "code",
   "execution_count": 6,
   "id": "51d9da0d",
   "metadata": {},
   "outputs": [],
   "source": [
    "### Vocabulary size\n",
    "voc_size=10000"
   ]
  },
  {
   "cell_type": "markdown",
   "id": "1c8de284",
   "metadata": {},
   "source": [
    "# One Hot Representation"
   ]
  },
  {
   "cell_type": "code",
   "execution_count": 7,
   "id": "663eab25",
   "metadata": {},
   "outputs": [
    {
     "name": "stdout",
     "output_type": "stream",
     "text": [
      "[[4477, 3096, 8708, 7428], [4477, 3096, 8708, 1148], [4477, 9171, 8708, 7056], [6307, 3955, 6526, 9654, 7080], [6307, 3955, 6526, 9654, 3118], [3787, 4477, 8402, 8708, 891], [8810, 5705, 2601, 9654]]\n"
     ]
    }
   ],
   "source": [
    "onehot_repr=[one_hot(words,voc_size)for words in sent] \n",
    "print(onehot_repr)"
   ]
  },
  {
   "cell_type": "markdown",
   "id": "3aaa4d6a",
   "metadata": {},
   "source": [
    "# Word Embedding Representation"
   ]
  },
  {
   "cell_type": "code",
   "execution_count": 8,
   "id": "458cc4fa",
   "metadata": {},
   "outputs": [],
   "source": [
    "from tensorflow.keras.layers import Embedding\n",
    "from tensorflow.keras.preprocessing.sequence import pad_sequences\n",
    "from tensorflow.keras.models import Sequential"
   ]
  },
  {
   "cell_type": "code",
   "execution_count": 9,
   "id": "957da439",
   "metadata": {},
   "outputs": [],
   "source": [
    "import numpy as np"
   ]
  },
  {
   "cell_type": "code",
   "execution_count": 10,
   "id": "5121be6d",
   "metadata": {},
   "outputs": [
    {
     "name": "stdout",
     "output_type": "stream",
     "text": [
      "[[   0    0    0    0 4477 3096 8708 7428]\n",
      " [   0    0    0    0 4477 3096 8708 1148]\n",
      " [   0    0    0    0 4477 9171 8708 7056]\n",
      " [   0    0    0 6307 3955 6526 9654 7080]\n",
      " [   0    0    0 6307 3955 6526 9654 3118]\n",
      " [   0    0    0 3787 4477 8402 8708  891]\n",
      " [   0    0    0    0 8810 5705 2601 9654]]\n"
     ]
    }
   ],
   "source": [
    "sent_length=8\n",
    "embedded_docs=pad_sequences(onehot_repr,padding='pre',maxlen=sent_length)\n",
    "print(embedded_docs)"
   ]
  },
  {
   "cell_type": "code",
   "execution_count": 11,
   "id": "36b38deb",
   "metadata": {},
   "outputs": [],
   "source": [
    "dim=10"
   ]
  },
  {
   "cell_type": "code",
   "execution_count": 12,
   "id": "d1ad1719",
   "metadata": {},
   "outputs": [],
   "source": [
    "model=Sequential()\n",
    "model.add(Embedding(voc_size,10,input_length=sent_length))\n",
    "model.compile('adam','mse')"
   ]
  },
  {
   "cell_type": "code",
   "execution_count": 13,
   "id": "3338a5e8",
   "metadata": {},
   "outputs": [
    {
     "name": "stdout",
     "output_type": "stream",
     "text": [
      "Model: \"sequential\"\n",
      "_________________________________________________________________\n",
      " Layer (type)                Output Shape              Param #   \n",
      "=================================================================\n",
      " embedding (Embedding)       (None, 8, 10)             100000    \n",
      "                                                                 \n",
      "=================================================================\n",
      "Total params: 100,000\n",
      "Trainable params: 100,000\n",
      "Non-trainable params: 0\n",
      "_________________________________________________________________\n"
     ]
    }
   ],
   "source": [
    "model.summary()"
   ]
  },
  {
   "cell_type": "code",
   "execution_count": 14,
   "id": "d231d232",
   "metadata": {},
   "outputs": [
    {
     "name": "stdout",
     "output_type": "stream",
     "text": [
      "1/1 [==============================] - 0s 110ms/step\n",
      "[[[-0.03442298 -0.04411849 -0.02407839 -0.04123946  0.03186387\n",
      "   -0.01504936  0.01799805 -0.01783764  0.0386925  -0.04322822]\n",
      "  [-0.03442298 -0.04411849 -0.02407839 -0.04123946  0.03186387\n",
      "   -0.01504936  0.01799805 -0.01783764  0.0386925  -0.04322822]\n",
      "  [-0.03442298 -0.04411849 -0.02407839 -0.04123946  0.03186387\n",
      "   -0.01504936  0.01799805 -0.01783764  0.0386925  -0.04322822]\n",
      "  [-0.03442298 -0.04411849 -0.02407839 -0.04123946  0.03186387\n",
      "   -0.01504936  0.01799805 -0.01783764  0.0386925  -0.04322822]\n",
      "  [ 0.00137594  0.00276637  0.04149084 -0.04060443 -0.02817479\n",
      "   -0.03922925 -0.02817236 -0.0358298  -0.00444137 -0.04174248]\n",
      "  [ 0.04141381 -0.00697771 -0.01440216 -0.02702695  0.01449532\n",
      "    0.02296988 -0.02411766 -0.03215828  0.04425937 -0.0319946 ]\n",
      "  [ 0.0494304   0.01630464 -0.02575197 -0.00919491  0.04662343\n",
      "    0.00626554 -0.03902562  0.03494407 -0.02589599 -0.02032065]\n",
      "  [-0.04199982 -0.01854406  0.02419862 -0.04923437 -0.00951967\n",
      "    0.01343505 -0.02280587  0.01489614  0.02519249 -0.01642806]]\n",
      "\n",
      " [[-0.03442298 -0.04411849 -0.02407839 -0.04123946  0.03186387\n",
      "   -0.01504936  0.01799805 -0.01783764  0.0386925  -0.04322822]\n",
      "  [-0.03442298 -0.04411849 -0.02407839 -0.04123946  0.03186387\n",
      "   -0.01504936  0.01799805 -0.01783764  0.0386925  -0.04322822]\n",
      "  [-0.03442298 -0.04411849 -0.02407839 -0.04123946  0.03186387\n",
      "   -0.01504936  0.01799805 -0.01783764  0.0386925  -0.04322822]\n",
      "  [-0.03442298 -0.04411849 -0.02407839 -0.04123946  0.03186387\n",
      "   -0.01504936  0.01799805 -0.01783764  0.0386925  -0.04322822]\n",
      "  [ 0.00137594  0.00276637  0.04149084 -0.04060443 -0.02817479\n",
      "   -0.03922925 -0.02817236 -0.0358298  -0.00444137 -0.04174248]\n",
      "  [ 0.04141381 -0.00697771 -0.01440216 -0.02702695  0.01449532\n",
      "    0.02296988 -0.02411766 -0.03215828  0.04425937 -0.0319946 ]\n",
      "  [ 0.0494304   0.01630464 -0.02575197 -0.00919491  0.04662343\n",
      "    0.00626554 -0.03902562  0.03494407 -0.02589599 -0.02032065]\n",
      "  [ 0.0034582  -0.02470783  0.01857182 -0.00325636  0.01991755\n",
      "   -0.01865115  0.02546835 -0.04364855 -0.00831141  0.00639512]]\n",
      "\n",
      " [[-0.03442298 -0.04411849 -0.02407839 -0.04123946  0.03186387\n",
      "   -0.01504936  0.01799805 -0.01783764  0.0386925  -0.04322822]\n",
      "  [-0.03442298 -0.04411849 -0.02407839 -0.04123946  0.03186387\n",
      "   -0.01504936  0.01799805 -0.01783764  0.0386925  -0.04322822]\n",
      "  [-0.03442298 -0.04411849 -0.02407839 -0.04123946  0.03186387\n",
      "   -0.01504936  0.01799805 -0.01783764  0.0386925  -0.04322822]\n",
      "  [-0.03442298 -0.04411849 -0.02407839 -0.04123946  0.03186387\n",
      "   -0.01504936  0.01799805 -0.01783764  0.0386925  -0.04322822]\n",
      "  [ 0.00137594  0.00276637  0.04149084 -0.04060443 -0.02817479\n",
      "   -0.03922925 -0.02817236 -0.0358298  -0.00444137 -0.04174248]\n",
      "  [ 0.00790167  0.04879344  0.02969409  0.03617812 -0.02168549\n",
      "   -0.02922742  0.01524521  0.03689894  0.0478451  -0.00031118]\n",
      "  [ 0.0494304   0.01630464 -0.02575197 -0.00919491  0.04662343\n",
      "    0.00626554 -0.03902562  0.03494407 -0.02589599 -0.02032065]\n",
      "  [ 0.02109722 -0.01087927  0.04120512  0.00844144  0.02986668\n",
      "    0.03573005  0.02987042  0.01107384 -0.0033849  -0.01139864]]\n",
      "\n",
      " [[-0.03442298 -0.04411849 -0.02407839 -0.04123946  0.03186387\n",
      "   -0.01504936  0.01799805 -0.01783764  0.0386925  -0.04322822]\n",
      "  [-0.03442298 -0.04411849 -0.02407839 -0.04123946  0.03186387\n",
      "   -0.01504936  0.01799805 -0.01783764  0.0386925  -0.04322822]\n",
      "  [-0.03442298 -0.04411849 -0.02407839 -0.04123946  0.03186387\n",
      "   -0.01504936  0.01799805 -0.01783764  0.0386925  -0.04322822]\n",
      "  [ 0.02403883  0.01328382  0.02560193  0.02008866  0.02397018\n",
      "    0.0485881  -0.0192953   0.01635898  0.04405122  0.00608844]\n",
      "  [-0.00672238  0.02819237 -0.02306118 -0.01463997 -0.0407024\n",
      "   -0.02129754  0.04758691  0.0331178  -0.0038299  -0.03085742]\n",
      "  [ 0.00999594  0.03568461 -0.00885548  0.00664785 -0.00104016\n",
      "   -0.03213638  0.02544605  0.04745034  0.02250579 -0.02925613]\n",
      "  [ 0.01179615 -0.00593337 -0.02884126 -0.01698227 -0.03296207\n",
      "    0.00342909 -0.04519962 -0.02953392 -0.03003693 -0.03603797]\n",
      "  [-0.03717297 -0.03008795  0.02629513 -0.00140605 -0.04750551\n",
      "   -0.01949297  0.04181791  0.03734851  0.00822015  0.03077415]]\n",
      "\n",
      " [[-0.03442298 -0.04411849 -0.02407839 -0.04123946  0.03186387\n",
      "   -0.01504936  0.01799805 -0.01783764  0.0386925  -0.04322822]\n",
      "  [-0.03442298 -0.04411849 -0.02407839 -0.04123946  0.03186387\n",
      "   -0.01504936  0.01799805 -0.01783764  0.0386925  -0.04322822]\n",
      "  [-0.03442298 -0.04411849 -0.02407839 -0.04123946  0.03186387\n",
      "   -0.01504936  0.01799805 -0.01783764  0.0386925  -0.04322822]\n",
      "  [ 0.02403883  0.01328382  0.02560193  0.02008866  0.02397018\n",
      "    0.0485881  -0.0192953   0.01635898  0.04405122  0.00608844]\n",
      "  [-0.00672238  0.02819237 -0.02306118 -0.01463997 -0.0407024\n",
      "   -0.02129754  0.04758691  0.0331178  -0.0038299  -0.03085742]\n",
      "  [ 0.00999594  0.03568461 -0.00885548  0.00664785 -0.00104016\n",
      "   -0.03213638  0.02544605  0.04745034  0.02250579 -0.02925613]\n",
      "  [ 0.01179615 -0.00593337 -0.02884126 -0.01698227 -0.03296207\n",
      "    0.00342909 -0.04519962 -0.02953392 -0.03003693 -0.03603797]\n",
      "  [ 0.02372089  0.04423663  0.04490158  0.04569337 -0.00010282\n",
      "   -0.0455627   0.04599223 -0.01085256  0.01070563  0.02851914]]\n",
      "\n",
      " [[-0.03442298 -0.04411849 -0.02407839 -0.04123946  0.03186387\n",
      "   -0.01504936  0.01799805 -0.01783764  0.0386925  -0.04322822]\n",
      "  [-0.03442298 -0.04411849 -0.02407839 -0.04123946  0.03186387\n",
      "   -0.01504936  0.01799805 -0.01783764  0.0386925  -0.04322822]\n",
      "  [-0.03442298 -0.04411849 -0.02407839 -0.04123946  0.03186387\n",
      "   -0.01504936  0.01799805 -0.01783764  0.0386925  -0.04322822]\n",
      "  [ 0.01076679 -0.0354616   0.02899306  0.04933205 -0.03302329\n",
      "   -0.00664331  0.01020259  0.02347704  0.00209371  0.02591402]\n",
      "  [ 0.00137594  0.00276637  0.04149084 -0.04060443 -0.02817479\n",
      "   -0.03922925 -0.02817236 -0.0358298  -0.00444137 -0.04174248]\n",
      "  [ 0.03836871  0.01731255 -0.04053992  0.03390343  0.03648819\n",
      "    0.04678483 -0.00797683  0.01280748 -0.04818449 -0.01898699]\n",
      "  [ 0.0494304   0.01630464 -0.02575197 -0.00919491  0.04662343\n",
      "    0.00626554 -0.03902562  0.03494407 -0.02589599 -0.02032065]\n",
      "  [ 0.04838962  0.03175694 -0.00729678 -0.04169472  0.01632403\n",
      "    0.0359857  -0.02833932  0.01234654 -0.02460634 -0.02780427]]\n",
      "\n",
      " [[-0.03442298 -0.04411849 -0.02407839 -0.04123946  0.03186387\n",
      "   -0.01504936  0.01799805 -0.01783764  0.0386925  -0.04322822]\n",
      "  [-0.03442298 -0.04411849 -0.02407839 -0.04123946  0.03186387\n",
      "   -0.01504936  0.01799805 -0.01783764  0.0386925  -0.04322822]\n",
      "  [-0.03442298 -0.04411849 -0.02407839 -0.04123946  0.03186387\n",
      "   -0.01504936  0.01799805 -0.01783764  0.0386925  -0.04322822]\n",
      "  [-0.03442298 -0.04411849 -0.02407839 -0.04123946  0.03186387\n",
      "   -0.01504936  0.01799805 -0.01783764  0.0386925  -0.04322822]\n",
      "  [-0.03935903  0.00838052  0.01500166 -0.01513772 -0.0182452\n",
      "   -0.00510622  0.03225249 -0.00158622  0.0117085   0.00307604]\n",
      "  [ 0.0058182   0.03347955 -0.04201033  0.00883216 -0.00750249\n",
      "    0.04153692 -0.04466195 -0.04174502  0.04834658 -0.03122647]\n",
      "  [ 0.01796811 -0.02986842  0.04624483  0.01700873  0.04569684\n",
      "   -0.00620738 -0.04731695  0.04294661 -0.02509805  0.01063756]\n",
      "  [ 0.01179615 -0.00593337 -0.02884126 -0.01698227 -0.03296207\n",
      "    0.00342909 -0.04519962 -0.02953392 -0.03003693 -0.03603797]]]\n"
     ]
    }
   ],
   "source": [
    "print(model.predict(embedded_docs))"
   ]
  },
  {
   "cell_type": "code",
   "execution_count": 15,
   "id": "293fdb73",
   "metadata": {},
   "outputs": [
    {
     "data": {
      "text/plain": [
       "array([   0,    0,    0,    0, 4477, 3096, 8708, 7428])"
      ]
     },
     "execution_count": 15,
     "metadata": {},
     "output_type": "execute_result"
    }
   ],
   "source": [
    "embedded_docs[0]"
   ]
  },
  {
   "cell_type": "code",
   "execution_count": 16,
   "id": "73862f08",
   "metadata": {},
   "outputs": [
    {
     "name": "stdout",
     "output_type": "stream",
     "text": [
      "1/1 [==============================] - 0s 20ms/step\n",
      "[[-0.03442298 -0.04411849 -0.02407839 -0.04123946  0.03186387 -0.01504936\n",
      "   0.01799805 -0.01783764  0.0386925  -0.04322822]\n",
      " [-0.03442298 -0.04411849 -0.02407839 -0.04123946  0.03186387 -0.01504936\n",
      "   0.01799805 -0.01783764  0.0386925  -0.04322822]\n",
      " [-0.03442298 -0.04411849 -0.02407839 -0.04123946  0.03186387 -0.01504936\n",
      "   0.01799805 -0.01783764  0.0386925  -0.04322822]\n",
      " [-0.03442298 -0.04411849 -0.02407839 -0.04123946  0.03186387 -0.01504936\n",
      "   0.01799805 -0.01783764  0.0386925  -0.04322822]\n",
      " [ 0.00137594  0.00276637  0.04149084 -0.04060443 -0.02817479 -0.03922925\n",
      "  -0.02817236 -0.0358298  -0.00444137 -0.04174248]\n",
      " [ 0.04141381 -0.00697771 -0.01440216 -0.02702695  0.01449532  0.02296988\n",
      "  -0.02411766 -0.03215828  0.04425937 -0.0319946 ]\n",
      " [ 0.0494304   0.01630464 -0.02575197 -0.00919491  0.04662343  0.00626554\n",
      "  -0.03902562  0.03494407 -0.02589599 -0.02032065]\n",
      " [-0.04199982 -0.01854406  0.02419862 -0.04923437 -0.00951967  0.01343505\n",
      "  -0.02280587  0.01489614  0.02519249 -0.01642806]]\n"
     ]
    }
   ],
   "source": [
    "print(model.predict(embedded_docs)[0])"
   ]
  },
  {
   "cell_type": "code",
   "execution_count": null,
   "id": "4f0b80fe",
   "metadata": {},
   "outputs": [],
   "source": []
  }
 ],
 "metadata": {
  "kernelspec": {
   "display_name": "Python 3 (ipykernel)",
   "language": "python",
   "name": "python3"
  },
  "language_info": {
   "codemirror_mode": {
    "name": "ipython",
    "version": 3
   },
   "file_extension": ".py",
   "mimetype": "text/x-python",
   "name": "python",
   "nbconvert_exporter": "python",
   "pygments_lexer": "ipython3",
   "version": "3.9.12"
  }
 },
 "nbformat": 4,
 "nbformat_minor": 5
}
